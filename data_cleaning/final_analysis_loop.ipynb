{
 "cells": [
  {
   "cell_type": "code",
   "execution_count": 1,
   "metadata": {},
   "outputs": [],
   "source": [
    "import pandas as pd\n",
    "import numpy as np"
   ]
  },
  {
   "cell_type": "code",
   "execution_count": 2,
   "metadata": {},
   "outputs": [],
   "source": [
    "clean = [\"supermarket_cleaned_csvs/cleaned_aldi_products.csv\",\n",
    "        \"supermarket_cleaned_csvs/cleaned_aldisued_products.csv\",\n",
    "        \"supermarket_cleaned_csvs/cleaned_edeka_products.csv\",\n",
    "        \"supermarket_cleaned_csvs/cleaned_kaufland_products.csv\",\n",
    "        \"supermarket_cleaned_csvs/cleaned_lidl_products.csv\",\n",
    "        \"supermarket_cleaned_csvs/cleaned_rewe_products.csv\"]\n",
    "         \n",
    "supermarket_names = [\"aldinord\",\"aldisued\",\"edeka\",\"kaufland\",\"lidl\",\"rewe\"]"
   ]
  },
  {
   "cell_type": "code",
   "execution_count": 3,
   "metadata": {},
   "outputs": [],
   "source": [
    "# Create one frame with all the comparisons\n",
    "\n",
    "compare_frame = pd.DataFrame(columns=[\"Market1\",\"Market1Mean\",\"Market2\",\"Market2Mean\",\"RatioM1/M2\"])\n",
    "\n",
    "\n",
    "\n",
    "# Outer loop: Choose \"base\" file for merge\n",
    "\n",
    "# Loop for indices of clean\n",
    "for i in range(0,len(clean)):\n",
    "    df1 = pd.read_csv(clean[i])\n",
    "    \n",
    "    # Now, inner loop for all other files, same approach\n",
    "    for j in range(0,len(clean)):\n",
    "        df2 = pd.read_csv(clean[j])\n",
    "        \n",
    "        # Do the merge operation for all\n",
    "        df_merge = pd.merge(df1,df2,how='inner',on=\"Name\")\n",
    "        \n",
    "        \n",
    "        # Save as .csv. Give meaningful names. Since name list has same order as .csv file list, \n",
    "        # we can use the same indices\n",
    "        \n",
    "        name1 = supermarket_names[i]\n",
    "        name2 = supermarket_names[j]\n",
    "        df_merge.to_csv(f\"{name1}_{name2}.csv\")\n",
    "        \n",
    "        # Calculate means and ratio\n",
    "        \n",
    "        mean1 = df_merge[\"Comparable Price_x\"].mean()\n",
    "        mean2 = df_merge[\"Comparable Price_y\"].mean()        \n",
    "        \n",
    "        meanratio = mean1/mean2\n",
    "        \n",
    "        \n",
    "        # Add the row to the above frame\n",
    "        \n",
    "        comparerow = [name1, mean1, name2, mean2, meanratio]\n",
    "        \n",
    "        compare_frame.append(comparerow)\n",
    "        \n",
    "# save compare frame individually\n",
    "\n",
    "compare_frame.to_csv(\"compareframe.csv\")\n"
   ]
  },
  {
   "cell_type": "code",
   "execution_count": 4,
   "metadata": {},
   "outputs": [
    {
     "ename": "TypeError",
     "evalue": "merge() got multiple values for argument 'how'",
     "output_type": "error",
     "traceback": [
      "\u001b[0;31m---------------------------------------------------------------------------\u001b[0m",
      "\u001b[0;31mTypeError\u001b[0m                                 Traceback (most recent call last)",
      "\u001b[0;32m<ipython-input-4-e145ca5fd504>\u001b[0m in \u001b[0;36m<module>\u001b[0;34m\u001b[0m\n\u001b[1;32m      8\u001b[0m \u001b[0mdf6\u001b[0m \u001b[0;34m=\u001b[0m \u001b[0mpd\u001b[0m\u001b[0;34m.\u001b[0m\u001b[0mread_csv\u001b[0m\u001b[0;34m(\u001b[0m\u001b[0mclean\u001b[0m\u001b[0;34m[\u001b[0m\u001b[0;36m5\u001b[0m\u001b[0;34m]\u001b[0m\u001b[0;34m)\u001b[0m \u001b[0;31m# rewe\u001b[0m\u001b[0;34m\u001b[0m\u001b[0m\n\u001b[1;32m      9\u001b[0m \u001b[0;34m\u001b[0m\u001b[0m\n\u001b[0;32m---> 10\u001b[0;31m \u001b[0mdf_merge\u001b[0m \u001b[0;34m=\u001b[0m \u001b[0mpd\u001b[0m\u001b[0;34m.\u001b[0m\u001b[0mmerge\u001b[0m\u001b[0;34m(\u001b[0m\u001b[0mdf1\u001b[0m\u001b[0;34m,\u001b[0m\u001b[0mdf2\u001b[0m\u001b[0;34m,\u001b[0m\u001b[0mdf3\u001b[0m\u001b[0;34m,\u001b[0m\u001b[0mdf4\u001b[0m\u001b[0;34m,\u001b[0m\u001b[0mdf5\u001b[0m\u001b[0;34m,\u001b[0m\u001b[0mdf6\u001b[0m\u001b[0;34m,\u001b[0m\u001b[0mhow\u001b[0m\u001b[0;34m=\u001b[0m\u001b[0;34m'inner'\u001b[0m\u001b[0;34m,\u001b[0m\u001b[0mon\u001b[0m\u001b[0;34m=\u001b[0m\u001b[0;34m'Name'\u001b[0m\u001b[0;34m,\u001b[0m \u001b[0merrors\u001b[0m\u001b[0;34m=\u001b[0m\u001b[0;34m'coerce'\u001b[0m\u001b[0;34m)\u001b[0m\u001b[0;34m\u001b[0m\u001b[0m\n\u001b[0m\u001b[1;32m     11\u001b[0m \u001b[0;34m\u001b[0m\u001b[0m\n\u001b[1;32m     12\u001b[0m \u001b[0mdf_merge\u001b[0m\u001b[0;34m.\u001b[0m\u001b[0mto_csv\u001b[0m\u001b[0;34m(\u001b[0m\u001b[0;34m\"all_merged.csv\"\u001b[0m\u001b[0;34m)\u001b[0m\u001b[0;34m\u001b[0m\u001b[0m\n",
      "\u001b[0;31mTypeError\u001b[0m: merge() got multiple values for argument 'how'"
     ]
    }
   ],
   "source": [
    "# Merge all dfs\n",
    "\n",
    "df1 = pd.read_csv(clean[0]) #aldi\n",
    "df2 = pd.read_csv(clean[1]) #aldi sued\n",
    "df3 = pd.read_csv(clean[2]) # edeka\n",
    "df4 = pd.read_csv(clean[3]) # kaufland\n",
    "df5 = pd.read_csv(clean[4]) # lidl\n",
    "df6 = pd.read_csv(clean[5]) # rewe\n",
    "\n",
    "df_merge = pd.merge(df1,df2,df3,df4,df5,df6,how='inner',on='Name', errors='coerce')\n",
    "\n",
    "df_merge.to_csv(\"all_merged.csv\")"
   ]
  }
 ],
 "metadata": {
  "kernelspec": {
   "display_name": "Python 3",
   "language": "python",
   "name": "python3"
  },
  "language_info": {
   "codemirror_mode": {
    "name": "ipython",
    "version": 3
   },
   "file_extension": ".py",
   "mimetype": "text/x-python",
   "name": "python",
   "nbconvert_exporter": "python",
   "pygments_lexer": "ipython3",
   "version": "3.7.0"
  }
 },
 "nbformat": 4,
 "nbformat_minor": 2
}
