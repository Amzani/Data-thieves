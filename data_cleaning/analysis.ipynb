{
 "cells": [
  {
   "cell_type": "code",
   "execution_count": 1,
   "metadata": {},
   "outputs": [],
   "source": [
    "import pandas as pd\n",
    "import numpy as np"
   ]
  },
  {
   "cell_type": "code",
   "execution_count": 2,
   "metadata": {},
   "outputs": [],
   "source": [
    "clean = [\"supermarket_cleaned_csvs/cleaned_aldi_products.csv\",\n",
    "        \"supermarket_cleaned_csvs/cleaned_aldisued_products.csv\",\n",
    "        \"supermarket_cleaned_csvs/cleaned_edeka_products.csv\",\n",
    "        \"supermarket_cleaned_csvs/cleaned_kaufland_products.csv\",\n",
    "        \"supermarket_cleaned_csvs/cleaned_lidl_products.csv\",\n",
    "        \"supermarket_cleaned_csvs/cleaned_rewe_products.csv\"]\n",
    "         "
   ]
  },
  {
   "cell_type": "code",
   "execution_count": 3,
   "metadata": {},
   "outputs": [],
   "source": [
    "df1 = pd.read_csv(clean[0]) #aldi\n",
    "df2 = pd.read_csv(clean[1]) #aldi sued\n",
    "df3 = pd.read_csv(clean[2]) # edeka\n",
    "df4 = pd.read_csv(clean[3]) # kaufland\n",
    "df5 = pd.read_csv(clean[4]) # lidl\n",
    "df6 = pd.read_csv(clean[5]) # rewe"
   ]
  },
  {
   "cell_type": "code",
   "execution_count": 39,
   "metadata": {},
   "outputs": [],
   "source": [
    "aldi = pd.merge(df1,df2,how='inner',on=\"Name\")\n",
    "aldi1 = pd.merge(df1,df3,how='inner',on=\"Name\")\n",
    "aldi2 = pd.merge(df1,df4,how='inner',on=\"Name\")\n",
    "aldi3 = pd.merge(df1,df5,how='inner',on=\"Name\")\n",
    "aldi4 = pd.merge(df1,df6,how='inner',on=\"Name\")\n",
    "\n",
    "\n",
    "\n"
   ]
  },
  {
   "cell_type": "code",
   "execution_count": 40,
   "metadata": {},
   "outputs": [
    {
     "data": {
      "text/html": [
       "<div>\n",
       "<style scoped>\n",
       "    .dataframe tbody tr th:only-of-type {\n",
       "        vertical-align: middle;\n",
       "    }\n",
       "\n",
       "    .dataframe tbody tr th {\n",
       "        vertical-align: top;\n",
       "    }\n",
       "\n",
       "    .dataframe thead th {\n",
       "        text-align: right;\n",
       "    }\n",
       "</style>\n",
       "<table border=\"1\" class=\"dataframe\">\n",
       "  <thead>\n",
       "    <tr style=\"text-align: right;\">\n",
       "      <th></th>\n",
       "      <th>Unnamed: 0_x</th>\n",
       "      <th>Name</th>\n",
       "      <th>Price_x</th>\n",
       "      <th>Unit_x</th>\n",
       "      <th>Packet Size_x</th>\n",
       "      <th>Supermarket_x</th>\n",
       "      <th>Comparable Price_x</th>\n",
       "      <th>Unnamed: 0_y</th>\n",
       "      <th>Price_y</th>\n",
       "      <th>Unit_y</th>\n",
       "      <th>Packet Size_y</th>\n",
       "      <th>Supermarket_y</th>\n",
       "      <th>Comparable Price_y</th>\n",
       "    </tr>\n",
       "  </thead>\n",
       "  <tbody>\n",
       "    <tr>\n",
       "      <td>0</td>\n",
       "      <td>1</td>\n",
       "      <td>Nutella</td>\n",
       "      <td>3.79</td>\n",
       "      <td>100 Gramm</td>\n",
       "      <td>Glas 750 Gramm</td>\n",
       "      <td>aldi-nord</td>\n",
       "      <td>0.505</td>\n",
       "      <td>4</td>\n",
       "      <td>3.89</td>\n",
       "      <td>100 Gramm</td>\n",
       "      <td>Glas 880 Gramm, + 80 g Gratis</td>\n",
       "      <td>aldi-sued</td>\n",
       "      <td>0.442</td>\n",
       "    </tr>\n",
       "    <tr>\n",
       "      <td>1</td>\n",
       "      <td>2</td>\n",
       "      <td>Coca Cola</td>\n",
       "      <td>2.89</td>\n",
       "      <td>100 ml</td>\n",
       "      <td>6 x 0,33 L, 1.98 L</td>\n",
       "      <td>aldi-nord</td>\n",
       "      <td>0.146</td>\n",
       "      <td>1</td>\n",
       "      <td>0.99</td>\n",
       "      <td>100 ml</td>\n",
       "      <td>Pet-Flasche 1.25 L</td>\n",
       "      <td>aldi-sued</td>\n",
       "      <td>0.079</td>\n",
       "    </tr>\n",
       "    <tr>\n",
       "      <td>2</td>\n",
       "      <td>19</td>\n",
       "      <td>Iglo Schlemmer-Filet Classic a la Bordelaise</td>\n",
       "      <td>3.19</td>\n",
       "      <td>100 Gramm</td>\n",
       "      <td>Packung 380 Gramm</td>\n",
       "      <td>aldi-nord</td>\n",
       "      <td>0.839</td>\n",
       "      <td>7</td>\n",
       "      <td>2.99</td>\n",
       "      <td>100 Gramm</td>\n",
       "      <td>Packung 380 Gramm</td>\n",
       "      <td>aldi-sued</td>\n",
       "      <td>0.787</td>\n",
       "    </tr>\n",
       "    <tr>\n",
       "      <td>3</td>\n",
       "      <td>33</td>\n",
       "      <td>Ofterdinger Aldi Nord Delikatess Fleischsalat</td>\n",
       "      <td>0.99</td>\n",
       "      <td>100 Gramm</td>\n",
       "      <td>Glas 450 Gramm</td>\n",
       "      <td>aldi-nord</td>\n",
       "      <td>0.220</td>\n",
       "      <td>418</td>\n",
       "      <td>0.59</td>\n",
       "      <td>100 Gramm</td>\n",
       "      <td>Schale 250 Gramm</td>\n",
       "      <td>aldi-sued</td>\n",
       "      <td>0.240</td>\n",
       "    </tr>\n",
       "    <tr>\n",
       "      <td>4</td>\n",
       "      <td>56</td>\n",
       "      <td>Haribo Goldbären</td>\n",
       "      <td>0.99</td>\n",
       "      <td>100 Gramm</td>\n",
       "      <td>Beutel 200 Gramm</td>\n",
       "      <td>aldi-nord</td>\n",
       "      <td>0.500</td>\n",
       "      <td>648</td>\n",
       "      <td>0.89</td>\n",
       "      <td>100 Gramm</td>\n",
       "      <td>Beutel 300 Gramm</td>\n",
       "      <td>aldi-sued</td>\n",
       "      <td>0.300</td>\n",
       "    </tr>\n",
       "    <tr>\n",
       "      <td>...</td>\n",
       "      <td>...</td>\n",
       "      <td>...</td>\n",
       "      <td>...</td>\n",
       "      <td>...</td>\n",
       "      <td>...</td>\n",
       "      <td>...</td>\n",
       "      <td>...</td>\n",
       "      <td>...</td>\n",
       "      <td>...</td>\n",
       "      <td>...</td>\n",
       "      <td>...</td>\n",
       "      <td>...</td>\n",
       "      <td>...</td>\n",
       "    </tr>\n",
       "    <tr>\n",
       "      <td>132</td>\n",
       "      <td>2921</td>\n",
       "      <td>Aldi Süd Grüner Veltliner trocken</td>\n",
       "      <td>2.89</td>\n",
       "      <td>100 ml</td>\n",
       "      <td>Flasche Glas 1 L</td>\n",
       "      <td>aldi-nord</td>\n",
       "      <td>0.289</td>\n",
       "      <td>3418</td>\n",
       "      <td>2.89</td>\n",
       "      <td>100 ml</td>\n",
       "      <td>Flasche Glas 1 L</td>\n",
       "      <td>aldi-sued</td>\n",
       "      <td>0.289</td>\n",
       "    </tr>\n",
       "    <tr>\n",
       "      <td>133</td>\n",
       "      <td>2957</td>\n",
       "      <td>American Tortilla Wraps Natur, 8 Stück</td>\n",
       "      <td>0.99</td>\n",
       "      <td>100 Gramm</td>\n",
       "      <td>Packung 340 Gramm</td>\n",
       "      <td>aldi-nord</td>\n",
       "      <td>0.290</td>\n",
       "      <td>3318</td>\n",
       "      <td>0.99</td>\n",
       "      <td>100 Gramm</td>\n",
       "      <td>Packung 340 Gramm</td>\n",
       "      <td>aldi-sued</td>\n",
       "      <td>0.290</td>\n",
       "    </tr>\n",
       "    <tr>\n",
       "      <td>134</td>\n",
       "      <td>2988</td>\n",
       "      <td>Moser Roth Feine Ostereier Edel Nougat</td>\n",
       "      <td>1.49</td>\n",
       "      <td>100 Gramm</td>\n",
       "      <td>Dose 300 Gramm</td>\n",
       "      <td>aldi-nord</td>\n",
       "      <td>0.500</td>\n",
       "      <td>3534</td>\n",
       "      <td>0.99</td>\n",
       "      <td>100 Gramm</td>\n",
       "      <td>Glas 250 Gramm</td>\n",
       "      <td>aldi-sued</td>\n",
       "      <td>0.400</td>\n",
       "    </tr>\n",
       "    <tr>\n",
       "      <td>135</td>\n",
       "      <td>2989</td>\n",
       "      <td>Moser Roth Feine Ostereier Praline</td>\n",
       "      <td>0.99</td>\n",
       "      <td>100 Gramm</td>\n",
       "      <td>Schale 300 gramm</td>\n",
       "      <td>aldi-nord</td>\n",
       "      <td>0.330</td>\n",
       "      <td>3535</td>\n",
       "      <td>1.49</td>\n",
       "      <td>100 ml</td>\n",
       "      <td>Packung 400 ML</td>\n",
       "      <td>aldi-sued</td>\n",
       "      <td>0.370</td>\n",
       "    </tr>\n",
       "    <tr>\n",
       "      <td>136</td>\n",
       "      <td>2990</td>\n",
       "      <td>Moser Roth Feine Ostereier Edel Collection mit...</td>\n",
       "      <td>1.15</td>\n",
       "      <td>100 Gramm</td>\n",
       "      <td>Packung 200 Gramm</td>\n",
       "      <td>aldi-nord</td>\n",
       "      <td>0.580</td>\n",
       "      <td>3536</td>\n",
       "      <td>1.49</td>\n",
       "      <td>100 ml</td>\n",
       "      <td>Packung 400 ML</td>\n",
       "      <td>aldi-sued</td>\n",
       "      <td>0.370</td>\n",
       "    </tr>\n",
       "  </tbody>\n",
       "</table>\n",
       "<p>137 rows × 13 columns</p>\n",
       "</div>"
      ],
      "text/plain": [
       "     Unnamed: 0_x                                               Name  Price_x  \\\n",
       "0               1                                            Nutella     3.79   \n",
       "1               2                                          Coca Cola     2.89   \n",
       "2              19       Iglo Schlemmer-Filet Classic a la Bordelaise     3.19   \n",
       "3              33      Ofterdinger Aldi Nord Delikatess Fleischsalat     0.99   \n",
       "4              56                                   Haribo Goldbären     0.99   \n",
       "..            ...                                                ...      ...   \n",
       "132          2921                  Aldi Süd Grüner Veltliner trocken     2.89   \n",
       "133          2957             American Tortilla Wraps Natur, 8 Stück     0.99   \n",
       "134          2988             Moser Roth Feine Ostereier Edel Nougat     1.49   \n",
       "135          2989                 Moser Roth Feine Ostereier Praline     0.99   \n",
       "136          2990  Moser Roth Feine Ostereier Edel Collection mit...     1.15   \n",
       "\n",
       "        Unit_x       Packet Size_x Supermarket_x  Comparable Price_x  \\\n",
       "0    100 Gramm      Glas 750 Gramm     aldi-nord               0.505   \n",
       "1       100 ml  6 x 0,33 L, 1.98 L     aldi-nord               0.146   \n",
       "2    100 Gramm   Packung 380 Gramm     aldi-nord               0.839   \n",
       "3    100 Gramm      Glas 450 Gramm     aldi-nord               0.220   \n",
       "4    100 Gramm    Beutel 200 Gramm     aldi-nord               0.500   \n",
       "..         ...                 ...           ...                 ...   \n",
       "132     100 ml    Flasche Glas 1 L     aldi-nord               0.289   \n",
       "133  100 Gramm   Packung 340 Gramm     aldi-nord               0.290   \n",
       "134  100 Gramm      Dose 300 Gramm     aldi-nord               0.500   \n",
       "135  100 Gramm    Schale 300 gramm     aldi-nord               0.330   \n",
       "136  100 Gramm   Packung 200 Gramm     aldi-nord               0.580   \n",
       "\n",
       "     Unnamed: 0_y  Price_y     Unit_y                  Packet Size_y  \\\n",
       "0               4     3.89  100 Gramm  Glas 880 Gramm, + 80 g Gratis   \n",
       "1               1     0.99     100 ml             Pet-Flasche 1.25 L   \n",
       "2               7     2.99  100 Gramm              Packung 380 Gramm   \n",
       "3             418     0.59  100 Gramm               Schale 250 Gramm   \n",
       "4             648     0.89  100 Gramm               Beutel 300 Gramm   \n",
       "..            ...      ...        ...                            ...   \n",
       "132          3418     2.89     100 ml               Flasche Glas 1 L   \n",
       "133          3318     0.99  100 Gramm              Packung 340 Gramm   \n",
       "134          3534     0.99  100 Gramm                 Glas 250 Gramm   \n",
       "135          3535     1.49     100 ml                 Packung 400 ML   \n",
       "136          3536     1.49     100 ml                 Packung 400 ML   \n",
       "\n",
       "    Supermarket_y  Comparable Price_y  \n",
       "0       aldi-sued               0.442  \n",
       "1       aldi-sued               0.079  \n",
       "2       aldi-sued               0.787  \n",
       "3       aldi-sued               0.240  \n",
       "4       aldi-sued               0.300  \n",
       "..            ...                 ...  \n",
       "132     aldi-sued               0.289  \n",
       "133     aldi-sued               0.290  \n",
       "134     aldi-sued               0.400  \n",
       "135     aldi-sued               0.370  \n",
       "136     aldi-sued               0.370  \n",
       "\n",
       "[137 rows x 13 columns]"
      ]
     },
     "execution_count": 40,
     "metadata": {},
     "output_type": "execute_result"
    }
   ],
   "source": [
    "aldi"
   ]
  },
  {
   "cell_type": "code",
   "execution_count": 42,
   "metadata": {},
   "outputs": [],
   "source": [
    "a = aldi[\"Comparable Price_x\"].mean()"
   ]
  },
  {
   "cell_type": "code",
   "execution_count": 41,
   "metadata": {},
   "outputs": [],
   "source": [
    "b =  aldi[\"Comparable Price_y\"].mean()"
   ]
  },
  {
   "cell_type": "code",
   "execution_count": 37,
   "metadata": {},
   "outputs": [
    {
     "data": {
      "text/plain": [
       "0.019432692307692623"
      ]
     },
     "execution_count": 37,
     "metadata": {},
     "output_type": "execute_result"
    }
   ],
   "source": [
    "a - b"
   ]
  },
  {
   "cell_type": "code",
   "execution_count": 10,
   "metadata": {},
   "outputs": [
    {
     "data": {
      "text/plain": [
       "0.9398496240601504"
      ]
     },
     "execution_count": 10,
     "metadata": {},
     "output_type": "execute_result"
    }
   ],
   "source": [
    "df[\"Comparable Price_y\"].median() / df[\"Comparable Price_x\"].median()\n"
   ]
  },
  {
   "cell_type": "code",
   "execution_count": 11,
   "metadata": {},
   "outputs": [
    {
     "data": {
      "text/plain": [
       "0.8191914785327372"
      ]
     },
     "execution_count": 11,
     "metadata": {},
     "output_type": "execute_result"
    }
   ],
   "source": [
    "df[\"Comparable Price_y\"].mean() / df[\"Comparable Price_x\"].mean()\n"
   ]
  },
  {
   "cell_type": "code",
   "execution_count": 12,
   "metadata": {},
   "outputs": [],
   "source": [
    "df = pd.merge(df3,df4,how='inner',on=\"Name\")\n",
    "\n",
    "\n"
   ]
  },
  {
   "cell_type": "code",
   "execution_count": 13,
   "metadata": {},
   "outputs": [
    {
     "data": {
      "text/html": [
       "<div>\n",
       "<style scoped>\n",
       "    .dataframe tbody tr th:only-of-type {\n",
       "        vertical-align: middle;\n",
       "    }\n",
       "\n",
       "    .dataframe tbody tr th {\n",
       "        vertical-align: top;\n",
       "    }\n",
       "\n",
       "    .dataframe thead th {\n",
       "        text-align: right;\n",
       "    }\n",
       "</style>\n",
       "<table border=\"1\" class=\"dataframe\">\n",
       "  <thead>\n",
       "    <tr style=\"text-align: right;\">\n",
       "      <th></th>\n",
       "      <th>Unnamed: 0_x</th>\n",
       "      <th>Name</th>\n",
       "      <th>Price_x</th>\n",
       "      <th>Unit_x</th>\n",
       "      <th>Packet Size_x</th>\n",
       "      <th>Supermarket_x</th>\n",
       "      <th>Comparable Price_x</th>\n",
       "      <th>Unnamed: 0_y</th>\n",
       "      <th>Price_y</th>\n",
       "      <th>Unit_y</th>\n",
       "      <th>Packet Size_y</th>\n",
       "      <th>Supermarket_y</th>\n",
       "      <th>Comparable Price_y</th>\n",
       "    </tr>\n",
       "  </thead>\n",
       "  <tbody>\n",
       "    <tr>\n",
       "      <td>0</td>\n",
       "      <td>0</td>\n",
       "      <td>Coca Cola</td>\n",
       "      <td>1.39</td>\n",
       "      <td>100 ml</td>\n",
       "      <td>Pet-Flasche 1.5 L</td>\n",
       "      <td>edeka</td>\n",
       "      <td>0.093</td>\n",
       "      <td>15</td>\n",
       "      <td>11.40</td>\n",
       "      <td>100 ml</td>\n",
       "      <td>Kasten 12 L, 12 x 1l</td>\n",
       "      <td>kaufland</td>\n",
       "      <td>0.095</td>\n",
       "    </tr>\n",
       "    <tr>\n",
       "      <td>1</td>\n",
       "      <td>1</td>\n",
       "      <td>Nutella</td>\n",
       "      <td>1.77</td>\n",
       "      <td>100 Gramm</td>\n",
       "      <td>Glas 500 Gramm, + 50 g Gratis</td>\n",
       "      <td>edeka</td>\n",
       "      <td>0.354</td>\n",
       "      <td>0</td>\n",
       "      <td>3.79</td>\n",
       "      <td>100 Gramm</td>\n",
       "      <td>Vorteils Glas 1000 Gramm</td>\n",
       "      <td>kaufland</td>\n",
       "      <td>0.379</td>\n",
       "    </tr>\n",
       "    <tr>\n",
       "      <td>2</td>\n",
       "      <td>2</td>\n",
       "      <td>Becel Gold 70 % Fett</td>\n",
       "      <td>1.49</td>\n",
       "      <td>100 Gramm</td>\n",
       "      <td>Becher 250 Gramm</td>\n",
       "      <td>edeka</td>\n",
       "      <td>0.600</td>\n",
       "      <td>12</td>\n",
       "      <td>1.39</td>\n",
       "      <td>100 Gramm</td>\n",
       "      <td>Becher 250 Gramm</td>\n",
       "      <td>kaufland</td>\n",
       "      <td>0.560</td>\n",
       "    </tr>\n",
       "    <tr>\n",
       "      <td>3</td>\n",
       "      <td>3</td>\n",
       "      <td>Iglo Fischstäbchen</td>\n",
       "      <td>2.99</td>\n",
       "      <td>100 Gramm</td>\n",
       "      <td>15er, Packung 450 Gramm</td>\n",
       "      <td>edeka</td>\n",
       "      <td>0.664</td>\n",
       "      <td>1</td>\n",
       "      <td>3.39</td>\n",
       "      <td>100 Gramm</td>\n",
       "      <td>15er, Packung 450 Gramm</td>\n",
       "      <td>kaufland</td>\n",
       "      <td>0.753</td>\n",
       "    </tr>\n",
       "    <tr>\n",
       "      <td>4</td>\n",
       "      <td>5</td>\n",
       "      <td>Landliebe Landkäse Original, 50 % Fett</td>\n",
       "      <td>2.29</td>\n",
       "      <td>100 Gramm</td>\n",
       "      <td>Packung 175 Gramm</td>\n",
       "      <td>edeka</td>\n",
       "      <td>1.310</td>\n",
       "      <td>13</td>\n",
       "      <td>1.99</td>\n",
       "      <td>100 Gramm</td>\n",
       "      <td>Packung 175 Gramm</td>\n",
       "      <td>kaufland</td>\n",
       "      <td>1.140</td>\n",
       "    </tr>\n",
       "    <tr>\n",
       "      <td>...</td>\n",
       "      <td>...</td>\n",
       "      <td>...</td>\n",
       "      <td>...</td>\n",
       "      <td>...</td>\n",
       "      <td>...</td>\n",
       "      <td>...</td>\n",
       "      <td>...</td>\n",
       "      <td>...</td>\n",
       "      <td>...</td>\n",
       "      <td>...</td>\n",
       "      <td>...</td>\n",
       "      <td>...</td>\n",
       "      <td>...</td>\n",
       "    </tr>\n",
       "    <tr>\n",
       "      <td>1524</td>\n",
       "      <td>9720</td>\n",
       "      <td>Punica Classics Roter Multivitaminsaft  6-er 6...</td>\n",
       "      <td>6.99</td>\n",
       "      <td>100 ml</td>\n",
       "      <td>Kasten 6 L</td>\n",
       "      <td>edeka</td>\n",
       "      <td>0.117</td>\n",
       "      <td>7751</td>\n",
       "      <td>6.48</td>\n",
       "      <td>100 ml</td>\n",
       "      <td>Kasten 6 L</td>\n",
       "      <td>kaufland</td>\n",
       "      <td>0.108</td>\n",
       "    </tr>\n",
       "    <tr>\n",
       "      <td>1525</td>\n",
       "      <td>9736</td>\n",
       "      <td>Schladerer Williams Birne 40 % Vol.</td>\n",
       "      <td>17.99</td>\n",
       "      <td>100 ml</td>\n",
       "      <td>Flasche Glas 0.7 L</td>\n",
       "      <td>edeka</td>\n",
       "      <td>2.570</td>\n",
       "      <td>7239</td>\n",
       "      <td>18.99</td>\n",
       "      <td>100 ml</td>\n",
       "      <td>Flasche Glas 0.7 L</td>\n",
       "      <td>kaufland</td>\n",
       "      <td>2.713</td>\n",
       "    </tr>\n",
       "    <tr>\n",
       "      <td>1526</td>\n",
       "      <td>9761</td>\n",
       "      <td>Rorax Rohrfrei Power Granulat</td>\n",
       "      <td>2.99</td>\n",
       "      <td>100 Gramm</td>\n",
       "      <td>Flasche Kunststoff 600 Gramm</td>\n",
       "      <td>edeka</td>\n",
       "      <td>0.498</td>\n",
       "      <td>7741</td>\n",
       "      <td>2.95</td>\n",
       "      <td>100 Gramm</td>\n",
       "      <td>Flasche Kunststoff 600 Gramm</td>\n",
       "      <td>kaufland</td>\n",
       "      <td>0.492</td>\n",
       "    </tr>\n",
       "    <tr>\n",
       "      <td>1527</td>\n",
       "      <td>9769</td>\n",
       "      <td>Calgonit Klarspüler</td>\n",
       "      <td>4.99</td>\n",
       "      <td>100 ml</td>\n",
       "      <td>Flasche Kunststoff 1000 ML</td>\n",
       "      <td>edeka</td>\n",
       "      <td>0.499</td>\n",
       "      <td>7683</td>\n",
       "      <td>4.55</td>\n",
       "      <td>100 ml</td>\n",
       "      <td>Flasche Kunststoff 1000 ML</td>\n",
       "      <td>kaufland</td>\n",
       "      <td>0.455</td>\n",
       "    </tr>\n",
       "    <tr>\n",
       "      <td>1528</td>\n",
       "      <td>9785</td>\n",
       "      <td>Ajax Allzweckreiniger Frühlingsblume</td>\n",
       "      <td>1.69</td>\n",
       "      <td>100 ml</td>\n",
       "      <td>Flasche Kunststoff 1000 ML</td>\n",
       "      <td>edeka</td>\n",
       "      <td>0.169</td>\n",
       "      <td>7762</td>\n",
       "      <td>1.45</td>\n",
       "      <td>100 ml</td>\n",
       "      <td>Flasche Kunststoff 1 L</td>\n",
       "      <td>kaufland</td>\n",
       "      <td>0.145</td>\n",
       "    </tr>\n",
       "  </tbody>\n",
       "</table>\n",
       "<p>1529 rows × 13 columns</p>\n",
       "</div>"
      ],
      "text/plain": [
       "      Unnamed: 0_x                                               Name  \\\n",
       "0                0                                          Coca Cola   \n",
       "1                1                                            Nutella   \n",
       "2                2                               Becel Gold 70 % Fett   \n",
       "3                3                                 Iglo Fischstäbchen   \n",
       "4                5             Landliebe Landkäse Original, 50 % Fett   \n",
       "...            ...                                                ...   \n",
       "1524          9720  Punica Classics Roter Multivitaminsaft  6-er 6...   \n",
       "1525          9736                Schladerer Williams Birne 40 % Vol.   \n",
       "1526          9761                      Rorax Rohrfrei Power Granulat   \n",
       "1527          9769                                Calgonit Klarspüler   \n",
       "1528          9785               Ajax Allzweckreiniger Frühlingsblume   \n",
       "\n",
       "      Price_x     Unit_x                  Packet Size_x Supermarket_x  \\\n",
       "0        1.39     100 ml              Pet-Flasche 1.5 L         edeka   \n",
       "1        1.77  100 Gramm  Glas 500 Gramm, + 50 g Gratis         edeka   \n",
       "2        1.49  100 Gramm               Becher 250 Gramm         edeka   \n",
       "3        2.99  100 Gramm        15er, Packung 450 Gramm         edeka   \n",
       "4        2.29  100 Gramm              Packung 175 Gramm         edeka   \n",
       "...       ...        ...                            ...           ...   \n",
       "1524     6.99     100 ml                     Kasten 6 L         edeka   \n",
       "1525    17.99     100 ml             Flasche Glas 0.7 L         edeka   \n",
       "1526     2.99  100 Gramm   Flasche Kunststoff 600 Gramm         edeka   \n",
       "1527     4.99     100 ml     Flasche Kunststoff 1000 ML         edeka   \n",
       "1528     1.69     100 ml     Flasche Kunststoff 1000 ML         edeka   \n",
       "\n",
       "      Comparable Price_x  Unnamed: 0_y  Price_y     Unit_y  \\\n",
       "0                  0.093            15    11.40     100 ml   \n",
       "1                  0.354             0     3.79  100 Gramm   \n",
       "2                  0.600            12     1.39  100 Gramm   \n",
       "3                  0.664             1     3.39  100 Gramm   \n",
       "4                  1.310            13     1.99  100 Gramm   \n",
       "...                  ...           ...      ...        ...   \n",
       "1524               0.117          7751     6.48     100 ml   \n",
       "1525               2.570          7239    18.99     100 ml   \n",
       "1526               0.498          7741     2.95  100 Gramm   \n",
       "1527               0.499          7683     4.55     100 ml   \n",
       "1528               0.169          7762     1.45     100 ml   \n",
       "\n",
       "                     Packet Size_y Supermarket_y  Comparable Price_y  \n",
       "0             Kasten 12 L, 12 x 1l      kaufland               0.095  \n",
       "1         Vorteils Glas 1000 Gramm      kaufland               0.379  \n",
       "2                 Becher 250 Gramm      kaufland               0.560  \n",
       "3          15er, Packung 450 Gramm      kaufland               0.753  \n",
       "4                Packung 175 Gramm      kaufland               1.140  \n",
       "...                            ...           ...                 ...  \n",
       "1524                    Kasten 6 L      kaufland               0.108  \n",
       "1525            Flasche Glas 0.7 L      kaufland               2.713  \n",
       "1526  Flasche Kunststoff 600 Gramm      kaufland               0.492  \n",
       "1527    Flasche Kunststoff 1000 ML      kaufland               0.455  \n",
       "1528        Flasche Kunststoff 1 L      kaufland               0.145  \n",
       "\n",
       "[1529 rows x 13 columns]"
      ]
     },
     "execution_count": 13,
     "metadata": {},
     "output_type": "execute_result"
    }
   ],
   "source": [
    "df"
   ]
  },
  {
   "cell_type": "code",
   "execution_count": 14,
   "metadata": {},
   "outputs": [],
   "source": [
    "edeka_mean = df[\"Comparable Price_x\"].mean()"
   ]
  },
  {
   "cell_type": "code",
   "execution_count": 15,
   "metadata": {},
   "outputs": [],
   "source": [
    "kaufland_mean = df[\"Comparable Price_y\"].mean()"
   ]
  },
  {
   "cell_type": "code",
   "execution_count": 16,
   "metadata": {},
   "outputs": [],
   "source": [
    "df = pd.merge(df5,df6,how='inner',on=\"Name\")\n",
    "\n",
    "\n"
   ]
  },
  {
   "cell_type": "code",
   "execution_count": 17,
   "metadata": {},
   "outputs": [],
   "source": [
    "lidl_mean = df[\"Comparable Price_x\"].mean()"
   ]
  },
  {
   "cell_type": "code",
   "execution_count": 18,
   "metadata": {},
   "outputs": [],
   "source": [
    "rewe_mean = df[\"Comparable Price_y\"].mean()"
   ]
  },
  {
   "cell_type": "code",
   "execution_count": 19,
   "metadata": {},
   "outputs": [
    {
     "data": {
      "text/plain": [
       "0.7719926793557832"
      ]
     },
     "execution_count": 19,
     "metadata": {},
     "output_type": "execute_result"
    }
   ],
   "source": [
    "lidl_mean"
   ]
  },
  {
   "cell_type": "code",
   "execution_count": 20,
   "metadata": {},
   "outputs": [
    {
     "data": {
      "text/plain": [
       "0.7935454545454556"
      ]
     },
     "execution_count": 20,
     "metadata": {},
     "output_type": "execute_result"
    }
   ],
   "source": [
    "rewe_mean"
   ]
  },
  {
   "cell_type": "code",
   "execution_count": 21,
   "metadata": {},
   "outputs": [
    {
     "data": {
      "text/plain": [
       "0.9726193590582074"
      ]
     },
     "execution_count": 21,
     "metadata": {},
     "output_type": "execute_result"
    }
   ],
   "source": [
    "kaufland_mean"
   ]
  },
  {
   "cell_type": "code",
   "execution_count": 22,
   "metadata": {},
   "outputs": [
    {
     "data": {
      "text/plain": [
       "1.363015042511444"
      ]
     },
     "execution_count": 22,
     "metadata": {},
     "output_type": "execute_result"
    }
   ],
   "source": [
    "edeka_mean"
   ]
  },
  {
   "cell_type": "code",
   "execution_count": null,
   "metadata": {},
   "outputs": [],
   "source": [
    "aldi_sued_mean"
   ]
  },
  {
   "cell_type": "code",
   "execution_count": null,
   "metadata": {},
   "outputs": [],
   "source": [
    "(aldi_nord_mean/aldi_sued_mean) * 100"
   ]
  },
  {
   "cell_type": "code",
   "execution_count": null,
   "metadata": {},
   "outputs": [],
   "source": [
    "(aldi_nord_mean/edeka_mean) * 100"
   ]
  },
  {
   "cell_type": "code",
   "execution_count": null,
   "metadata": {},
   "outputs": [],
   "source": [
    "df7 = pd.merge(df1,df2,how='inner',on=\"Name\")\n",
    "df8 = pd.merge(df7,df3,how='inner',on=\"Name\")\n",
    "df9 = pd.merge(df8,df4,how='inner',on=\"Name\")\n",
    "df10 = pd.merge(df9,df5,how='inner',on=\"Name\")\n",
    "df11 = pd.merge(df10,df6,how='inner',on=\"Name\")\n"
   ]
  },
  {
   "cell_type": "code",
   "execution_count": null,
   "metadata": {},
   "outputs": [],
   "source": [
    "df11"
   ]
  },
  {
   "cell_type": "code",
   "execution_count": null,
   "metadata": {},
   "outputs": [],
   "source": []
  },
  {
   "cell_type": "code",
   "execution_count": null,
   "metadata": {},
   "outputs": [],
   "source": [
    "list(df11.columns)"
   ]
  },
  {
   "cell_type": "code",
   "execution_count": null,
   "metadata": {},
   "outputs": [],
   "source": [
    "cols = [[\"Comparable Price_y\", \"Comparable Price_x\"]]"
   ]
  },
  {
   "cell_type": "code",
   "execution_count": null,
   "metadata": {},
   "outputs": [],
   "source": [
    "df12 = df11[[\"Comparable Price_y\", \"Comparable Price_x\"]]"
   ]
  },
  {
   "cell_type": "code",
   "execution_count": null,
   "metadata": {},
   "outputs": [],
   "source": [
    "(df12.sum())/len(df12) "
   ]
  },
  {
   "cell_type": "code",
   "execution_count": null,
   "metadata": {},
   "outputs": [],
   "source": [
    "df12 # aldi, aldi sued, edeka, kaufland, lidl , rewe"
   ]
  },
  {
   "cell_type": "code",
   "execution_count": null,
   "metadata": {},
   "outputs": [],
   "source": []
  },
  {
   "cell_type": "code",
   "execution_count": null,
   "metadata": {},
   "outputs": [],
   "source": []
  },
  {
   "cell_type": "code",
   "execution_count": null,
   "metadata": {},
   "outputs": [],
   "source": []
  }
 ],
 "metadata": {
  "kernelspec": {
   "display_name": "Python 3",
   "language": "python",
   "name": "python3"
  },
  "language_info": {
   "codemirror_mode": {
    "name": "ipython",
    "version": 3
   },
   "file_extension": ".py",
   "mimetype": "text/x-python",
   "name": "python",
   "nbconvert_exporter": "python",
   "pygments_lexer": "ipython3",
   "version": "3.7.4"
  }
 },
 "nbformat": 4,
 "nbformat_minor": 2
}
