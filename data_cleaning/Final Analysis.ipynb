{
 "cells": [
  {
   "cell_type": "code",
   "execution_count": 1,
   "metadata": {},
   "outputs": [],
   "source": [
    "import pandas as pd\n",
    "import numpy as np"
   ]
  },
  {
   "cell_type": "code",
   "execution_count": 2,
   "metadata": {},
   "outputs": [],
   "source": [
    "clean = [\"supermarket_cleaned_csvs/cleaned_aldi_products.csv\",\n",
    "        \"supermarket_cleaned_csvs/cleaned_aldisued_products.csv\",\n",
    "        \"supermarket_cleaned_csvs/cleaned_edeka_products.csv\",\n",
    "        \"supermarket_cleaned_csvs/cleaned_kaufland_products.csv\",\n",
    "        \"supermarket_cleaned_csvs/cleaned_lidl_products.csv\",\n",
    "        \"supermarket_cleaned_csvs/cleaned_rewe_products.csv\"]\n",
    "         "
   ]
  },
  {
   "cell_type": "code",
   "execution_count": 3,
   "metadata": {},
   "outputs": [],
   "source": [
    "df1 = pd.read_csv(clean[0]) #aldi\n",
    "df2 = pd.read_csv(clean[1]) #aldi sued\n",
    "df3 = pd.read_csv(clean[2]) # edeka\n",
    "df4 = pd.read_csv(clean[3]) # kaufland\n",
    "df5 = pd.read_csv(clean[4]) # lidl\n",
    "df6 = pd.read_csv(clean[5]) # rewe"
   ]
  },
  {
   "cell_type": "code",
   "execution_count": 4,
   "metadata": {},
   "outputs": [],
   "source": [
    "aldi = pd.merge(df4,df5,how='inner',on=\"Name\")"
   ]
  },
  {
   "cell_type": "code",
   "execution_count": 5,
   "metadata": {},
   "outputs": [],
   "source": [
    "a = aldi[\"Comparable Price_x\"].mean()"
   ]
  },
  {
   "cell_type": "code",
   "execution_count": 6,
   "metadata": {},
   "outputs": [],
   "source": [
    "b =  aldi[\"Comparable Price_y\"].mean()"
   ]
  },
  {
   "cell_type": "code",
   "execution_count": 7,
   "metadata": {},
   "outputs": [
    {
     "data": {
      "text/plain": [
       "0.1991262002743489"
      ]
     },
     "execution_count": 7,
     "metadata": {},
     "output_type": "execute_result"
    }
   ],
   "source": [
    "a - b"
   ]
  }
 ],
 "metadata": {
  "kernelspec": {
   "display_name": "Python 3",
   "language": "python",
   "name": "python3"
  },
  "language_info": {
   "codemirror_mode": {
    "name": "ipython",
    "version": 3
   },
   "file_extension": ".py",
   "mimetype": "text/x-python",
   "name": "python",
   "nbconvert_exporter": "python",
   "pygments_lexer": "ipython3",
   "version": "3.7.4"
  }
 },
 "nbformat": 4,
 "nbformat_minor": 2
}
