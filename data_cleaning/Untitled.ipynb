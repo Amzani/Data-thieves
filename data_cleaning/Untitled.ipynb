{
 "cells": [
  {
   "cell_type": "code",
   "execution_count": 1,
   "metadata": {},
   "outputs": [],
   "source": [
    "## Import libraries\n",
    "\n",
    "import pandas as pd\n",
    "import re\n",
    "import datetime\n",
    "import requests\n",
    "import bs4\n",
    "import numpy as np"
   ]
  },
  {
   "cell_type": "code",
   "execution_count": 2,
   "metadata": {},
   "outputs": [],
   "source": [
    "def data_cleaner(supermarket_input):\n",
    "    \n",
    "        \n",
    "    df = pd.read_csv(supermarket_input) \n",
    "    \n",
    "    aldi_df = df\n",
    "    \n",
    "    aldi_df[\"Price\"] = aldi_df[\"Price\"].str.replace(\" €\",\"\").str.replace(\",\",\".\")\n",
    "    aldi_df[\"Price per\"] = aldi_df[\"Price per\"].str.replace(\" €\",\"\").str.replace(\",\",\".\")\n",
    "    aldi_df[\"Price\"] = pd.to_numeric(aldi_df['Price'], errors='coerce')\n",
    "    aldi_df[\"Price per\"] = pd.to_numeric(aldi_df['Price per'], errors='coerce')\n",
    "    \n",
    "        \n",
    "    aldi_df[\"1kg Div\"] = np.where(aldi_df[\"Unit\"] == (\"Preis pro 1 KG\"),(aldi_df[\"Price per\"])/10,aldi_df[\"Price per\"])\n",
    "    aldi_df[\"ML Div \"] = np.where(aldi_df[\"Unit\"] == (\"Preis pro 1 Liter\"),(aldi_df[\"Price per\"])/10,aldi_df[\"Price per\"])\n",
    "    aldi_df[\"Div_merged\"] = 0\n",
    "    aldi_df[\"Div_merged\"] = np.where(aldi_df[\"Unit\"].str.contains(\"G\"), aldi_df[\"1kg Div\"],0)\n",
    "    aldi_df[\"Div_merged2\"] = np.where(aldi_df[\"Unit\"].str.contains(\"Liter\",\"ml\"), aldi_df[\"ML Div \"], aldi_df[\"Div_merged\"])\n",
    "    aldi_df[\"Div_merged3\"] = np.where(aldi_df[\"Unit\"].str.contains(\"ml\"), aldi_df[\"ML Div \"], aldi_df[\"Div_merged2\"])\n",
    "    aldi_df[\"Comparable Price\"] = np.where(aldi_df[\"Div_merged3\"] == 0, aldi_df[\"Price per\"], aldi_df[\"Div_merged3\"])\n",
    "    \n",
    "    \n",
    "    dropped = [\"Unnamed: 0\",\"1kg Div\",\"ML Div \",\"Div_merged\",\"Div_merged2\",\"Div_merged3\", \"Price per\"]\n",
    "    aldi_df = aldi_df.drop(columns=dropped)\n",
    "    \n",
    "    aldi_df[\"Unit\"] = aldi_df[\"Unit\"].str.replace(\"Preis pro 1 KG\",\"100 Gramm\").str.replace(\"Preis pro 100 Gramm\", \"100 Gramm\").str.replace(\"Preis pro 1 Liter\", \"100 ml\").str.replace(\"Preis pro 100 ml\", \"100 ml\")\n",
    "            \n",
    "    aldi_df[\"Packet Size\"] = aldi_df[\"Packet Size\"].str.replace(\"(\",\"\").str.replace(\")\",\"\")\n",
    "        \n",
    "        \n",
    "    \n",
    "        \n",
    "    \n",
    "    return aldi_df\n",
    "        \n",
    "        \n",
    "        \n",
    "        \n",
    "    \n",
    "        \n",
    "        \n",
    "        \n",
    "\n",
    "        \n",
    "    \n",
    "\n",
    "    \n",
    "    \n",
    "    "
   ]
  },
  {
   "cell_type": "code",
   "execution_count": 3,
   "metadata": {},
   "outputs": [],
   "source": [
    "cat = [\"category_116_frame.csv\",\"category_18_frame.csv\",\"category_20_frame.csv\", \"category_24_frame.csv\", \"category_28_frame.csv\", \"category_30_frame.csv\", \"category_329_frame.csv\", \"category_41_frame.csv\", \"category_4322_frame.csv\", \"category_4323_frame.csv\", \"category_4729_frame.csv\"]"
   ]
  },
  {
   "cell_type": "code",
   "execution_count": 6,
   "metadata": {},
   "outputs": [],
   "source": [
    "for i in cat:\n",
    "    frame = data_cleaner(i)\n",
    "    csvpath = \"cleaned_\" + i\n",
    "    frame.to_csv(csvpath)"
   ]
  },
  {
   "cell_type": "code",
   "execution_count": null,
   "metadata": {},
   "outputs": [],
   "source": []
  },
  {
   "cell_type": "code",
   "execution_count": 5,
   "metadata": {},
   "outputs": [
    {
     "name": "stdout",
     "output_type": "stream",
     "text": [
      "/Users/oliviatonkin/Data-thieves/data_cleaning\r\n"
     ]
    }
   ],
   "source": []
  },
  {
   "cell_type": "code",
   "execution_count": null,
   "metadata": {},
   "outputs": [],
   "source": []
  },
  {
   "cell_type": "code",
   "execution_count": null,
   "metadata": {},
   "outputs": [],
   "source": []
  },
  {
   "cell_type": "code",
   "execution_count": null,
   "metadata": {},
   "outputs": [],
   "source": []
  }
 ],
 "metadata": {
  "kernelspec": {
   "display_name": "Python 3",
   "language": "python",
   "name": "python3"
  },
  "language_info": {
   "codemirror_mode": {
    "name": "ipython",
    "version": 3
   },
   "file_extension": ".py",
   "mimetype": "text/x-python",
   "name": "python",
   "nbconvert_exporter": "python",
   "pygments_lexer": "ipython3",
   "version": "3.7.4"
  }
 },
 "nbformat": 4,
 "nbformat_minor": 2
}
